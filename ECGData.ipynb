{
  "nbformat": 4,
  "nbformat_minor": 0,
  "metadata": {
    "colab": {
      "name": "ECGData.ipynb",
      "provenance": [],
      "collapsed_sections": [],
      "include_colab_link": true
    },
    "kernelspec": {
      "name": "python3",
      "display_name": "Python 3"
    }
  },
  "cells": [
    {
      "cell_type": "markdown",
      "metadata": {
        "id": "view-in-github",
        "colab_type": "text"
      },
      "source": [
        "<a href=\"https://colab.research.google.com/github/britovski/notebooks/blob/master/ECGData.ipynb\" target=\"_parent\"><img src=\"https://colab.research.google.com/assets/colab-badge.svg\" alt=\"Open In Colab\"/></a>"
      ]
    },
    {
      "cell_type": "markdown",
      "metadata": {
        "id": "UGAp8HWiDDJY",
        "colab_type": "text"
      },
      "source": [
        "# Notebook to pre-process ECG database"
      ]
    },
    {
      "cell_type": "markdown",
      "metadata": {
        "id": "7xdMpe0XDwfI",
        "colab_type": "text"
      },
      "source": [
        "First steps just to download, install and import mne-python library, to deal with physiological signals and pandas for database pre-processing. "
      ]
    },
    {
      "cell_type": "code",
      "metadata": {
        "id": "d9ySeOES-W6V",
        "colab_type": "code",
        "outputId": "fc03f1a3-78e0-4656-ae87-ec2f6aa176b2",
        "colab": {
          "base_uri": "https://localhost:8080/",
          "height": 68
        }
      },
      "source": [
        "!pip install mne"
      ],
      "execution_count": 32,
      "outputs": [
        {
          "output_type": "stream",
          "text": [
            "Requirement already satisfied: mne in /usr/local/lib/python3.6/dist-packages (0.19.2)\n",
            "Requirement already satisfied: numpy>=1.11.3 in /usr/local/lib/python3.6/dist-packages (from mne) (1.18.2)\n",
            "Requirement already satisfied: scipy>=0.17.1 in /usr/local/lib/python3.6/dist-packages (from mne) (1.4.1)\n"
          ],
          "name": "stdout"
        }
      ]
    },
    {
      "cell_type": "code",
      "metadata": {
        "id": "neffeYqw-rnP",
        "colab_type": "code",
        "colab": {}
      },
      "source": [
        "import mne\n",
        "import pandas as pd"
      ],
      "execution_count": 0,
      "outputs": []
    },
    {
      "cell_type": "markdown",
      "metadata": {
        "id": "jbMGmq57T-Tm",
        "colab_type": "text"
      },
      "source": [
        "Mount google drive (if the file is at the cloud from google drive)"
      ]
    },
    {
      "cell_type": "code",
      "metadata": {
        "id": "Me698GX0aKaA",
        "colab_type": "code",
        "colab": {
          "base_uri": "https://localhost:8080/",
          "height": 54
        },
        "outputId": "f990043f-cb43-4e4c-d4d0-dffac4de8c2e"
      },
      "source": [
        "# execute essa celula e faça o login com o drive\n",
        "from google.colab import drive\n",
        "drive.mount('/content/drive')"
      ],
      "execution_count": 34,
      "outputs": [
        {
          "output_type": "stream",
          "text": [
            "Drive already mounted at /content/drive; to attempt to forcibly remount, call drive.mount(\"/content/drive\", force_remount=True).\n"
          ],
          "name": "stdout"
        }
      ]
    },
    {
      "cell_type": "markdown",
      "metadata": {
        "id": "2mbfxc1bUR_a",
        "colab_type": "text"
      },
      "source": [
        "Data acquisition using mne"
      ]
    },
    {
      "cell_type": "code",
      "metadata": {
        "id": "w3QgcS3RI2xY",
        "colab_type": "code",
        "outputId": "bbbae45b-775b-47ff-eca8-79c4f56cc9da",
        "colab": {
          "base_uri": "https://localhost:8080/",
          "height": 136
        }
      },
      "source": [
        "file = '/content/drive/My Drive/heartbeat-baseline-700001.edf'  # se tiver usando drive mude aqui para o caminho do arquivo\n",
        "data = mne.io.read_raw_edf(file)\n",
        "raw_data = data.get_data()"
      ],
      "execution_count": 35,
      "outputs": [
        {
          "output_type": "stream",
          "text": [
            "Extracting EDF parameters from /content/drive/My Drive/heartbeat-baseline-700001.edf...\n",
            "EDF file detected\n",
            "Setting channel info structure...\n",
            "Creating raw.info structure...\n"
          ],
          "name": "stdout"
        },
        {
          "output_type": "stream",
          "text": [
            "<ipython-input-35-3e52935b4f46>:2: RuntimeWarning: 1 channel names are too long, have been truncated to 15 characters:\n",
            "['Differential Pre']\n",
            "  data = mne.io.read_raw_edf(file)\n"
          ],
          "name": "stderr"
        }
      ]
    },
    {
      "cell_type": "markdown",
      "metadata": {
        "id": "Z49rgi4oUguN",
        "colab_type": "text"
      },
      "source": [
        "Getting data infos"
      ]
    },
    {
      "cell_type": "code",
      "metadata": {
        "id": "L17yHVpp-3hK",
        "colab_type": "code",
        "outputId": "60a4878b-5c79-43a0-ca18-2fefe2dd50c4",
        "colab": {
          "base_uri": "https://localhost:8080/",
          "height": 700
        }
      },
      "source": [
        "info = data.info\n",
        "channels = data.ch_names\n",
        "\n",
        "print(info)\n",
        "print(channels)"
      ],
      "execution_count": 36,
      "outputs": [
        {
          "output_type": "stream",
          "text": [
            "<Info | 16 non-empty fields\n",
            "    bads : list | 0 items\n",
            "    ch_names : list | Nasal, Thermistor, EKG, Thorax, Abdomen, Gravity X, ...\n",
            "    chs : list | 27 items (EEG: 27)\n",
            "    comps : list | 0 items\n",
            "    custom_ref_applied : bool | False\n",
            "    dev_head_t : Transform | 3 items\n",
            "    events : list | 0 items\n",
            "    highpass : float | 0.0 Hz\n",
            "    hpi_meas : list | 0 items\n",
            "    hpi_results : list | 0 items\n",
            "    lowpass : float | 100.0 Hz\n",
            "    meas_date : tuple | 1985-01-01 20:59:59 GMT\n",
            "    nchan : int | 27\n",
            "    proc_history : list | 0 items\n",
            "    projs : list | 0 items\n",
            "    sfreq : float | 200.0 Hz\n",
            "    acq_pars : NoneType\n",
            "    acq_stim : NoneType\n",
            "    ctf_head_t : NoneType\n",
            "    description : NoneType\n",
            "    dev_ctf_t : NoneType\n",
            "    device_info : NoneType\n",
            "    dig : NoneType\n",
            "    experimenter : NoneType\n",
            "    file_id : NoneType\n",
            "    gantry_angle : NoneType\n",
            "    helium_info : NoneType\n",
            "    hpi_subsystem : NoneType\n",
            "    kit_system_id : NoneType\n",
            "    line_freq : NoneType\n",
            "    meas_id : NoneType\n",
            "    proj_id : NoneType\n",
            "    proj_name : NoneType\n",
            "    subject_info : NoneType\n",
            "    utc_offset : NoneType\n",
            "    xplotter_layout : NoneType\n",
            ">\n",
            "['Nasal', 'Thermistor', 'EKG', 'Thorax', 'Abdomen', 'Gravity X', 'Gravity Y', 'Battery', 'Snore', 'Differential Pr', '0-1v DC', 'SpO2', 'SpO2-BB', 'Pulse', 'RD-Pleth', 'SpO2-Quality', 'RD-Quality', 'Flow', 'Activity', 'Elevation', 'Position', 'Phase', 'RMI', 'RR', 'XSum', 'Tidal Volume', 'XFlow']\n"
          ],
          "name": "stdout"
        }
      ]
    },
    {
      "cell_type": "markdown",
      "metadata": {
        "id": "uzO6MogCUj7A",
        "colab_type": "text"
      },
      "source": [
        "Organizing the data and visualizing as spreadsheet using pandas"
      ]
    },
    {
      "cell_type": "code",
      "metadata": {
        "id": "vXnBE8Or-5zM",
        "colab_type": "code",
        "outputId": "ccc03986-7251-44d8-db24-95572f40a27c",
        "colab": {
          "base_uri": "https://localhost:8080/",
          "height": 326
        }
      },
      "source": [
        "output = pd.DataFrame(raw_data.transpose())\n",
        "output.columns = channels\n",
        "output.head()"
      ],
      "execution_count": 37,
      "outputs": [
        {
          "output_type": "execute_result",
          "data": {
            "text/html": [
              "<div>\n",
              "<style scoped>\n",
              "    .dataframe tbody tr th:only-of-type {\n",
              "        vertical-align: middle;\n",
              "    }\n",
              "\n",
              "    .dataframe tbody tr th {\n",
              "        vertical-align: top;\n",
              "    }\n",
              "\n",
              "    .dataframe thead th {\n",
              "        text-align: right;\n",
              "    }\n",
              "</style>\n",
              "<table border=\"1\" class=\"dataframe\">\n",
              "  <thead>\n",
              "    <tr style=\"text-align: right;\">\n",
              "      <th></th>\n",
              "      <th>Nasal</th>\n",
              "      <th>Thermistor</th>\n",
              "      <th>EKG</th>\n",
              "      <th>Thorax</th>\n",
              "      <th>Abdomen</th>\n",
              "      <th>Gravity X</th>\n",
              "      <th>Gravity Y</th>\n",
              "      <th>Battery</th>\n",
              "      <th>Snore</th>\n",
              "      <th>Differential Pr</th>\n",
              "      <th>0-1v DC</th>\n",
              "      <th>SpO2</th>\n",
              "      <th>SpO2-BB</th>\n",
              "      <th>Pulse</th>\n",
              "      <th>RD-Pleth</th>\n",
              "      <th>SpO2-Quality</th>\n",
              "      <th>RD-Quality</th>\n",
              "      <th>Flow</th>\n",
              "      <th>Activity</th>\n",
              "      <th>Elevation</th>\n",
              "      <th>Position</th>\n",
              "      <th>Phase</th>\n",
              "      <th>RMI</th>\n",
              "      <th>RR</th>\n",
              "      <th>XSum</th>\n",
              "      <th>Tidal Volume</th>\n",
              "      <th>XFlow</th>\n",
              "    </tr>\n",
              "  </thead>\n",
              "  <tbody>\n",
              "    <tr>\n",
              "      <th>0</th>\n",
              "      <td>4.899569e-16</td>\n",
              "      <td>0.000092</td>\n",
              "      <td>0.0</td>\n",
              "      <td>0.0</td>\n",
              "      <td>0.0</td>\n",
              "      <td>-0.361145</td>\n",
              "      <td>-0.843841</td>\n",
              "      <td>2.689765</td>\n",
              "      <td>0.018939</td>\n",
              "      <td>0.000000</td>\n",
              "      <td>0.921203</td>\n",
              "      <td>0.0</td>\n",
              "      <td>0.0</td>\n",
              "      <td>0.0</td>\n",
              "      <td>-1.818989e-15</td>\n",
              "      <td>0.0</td>\n",
              "      <td>0.0</td>\n",
              "      <td>0.000000</td>\n",
              "      <td>0.332957</td>\n",
              "      <td>396.862697</td>\n",
              "      <td>-23.169652</td>\n",
              "      <td>0.0</td>\n",
              "      <td>0.0</td>\n",
              "      <td>0.0</td>\n",
              "      <td>0.0</td>\n",
              "      <td>0.0</td>\n",
              "      <td>0.0</td>\n",
              "    </tr>\n",
              "    <tr>\n",
              "      <th>1</th>\n",
              "      <td>-8.549954e-03</td>\n",
              "      <td>0.000234</td>\n",
              "      <td>0.0</td>\n",
              "      <td>0.0</td>\n",
              "      <td>0.0</td>\n",
              "      <td>-0.372560</td>\n",
              "      <td>-0.842935</td>\n",
              "      <td>2.693177</td>\n",
              "      <td>0.018309</td>\n",
              "      <td>0.001338</td>\n",
              "      <td>0.921160</td>\n",
              "      <td>0.0</td>\n",
              "      <td>0.0</td>\n",
              "      <td>0.0</td>\n",
              "      <td>-5.037400e+00</td>\n",
              "      <td>0.0</td>\n",
              "      <td>0.0</td>\n",
              "      <td>-0.003410</td>\n",
              "      <td>0.347643</td>\n",
              "      <td>395.865507</td>\n",
              "      <td>-24.262885</td>\n",
              "      <td>0.0</td>\n",
              "      <td>0.0</td>\n",
              "      <td>0.0</td>\n",
              "      <td>0.0</td>\n",
              "      <td>0.0</td>\n",
              "      <td>0.0</td>\n",
              "    </tr>\n",
              "    <tr>\n",
              "      <th>2</th>\n",
              "      <td>-1.007546e-02</td>\n",
              "      <td>0.000356</td>\n",
              "      <td>0.0</td>\n",
              "      <td>0.0</td>\n",
              "      <td>0.0</td>\n",
              "      <td>-0.382163</td>\n",
              "      <td>-0.842498</td>\n",
              "      <td>2.696764</td>\n",
              "      <td>0.017596</td>\n",
              "      <td>0.004381</td>\n",
              "      <td>0.921093</td>\n",
              "      <td>0.0</td>\n",
              "      <td>0.0</td>\n",
              "      <td>0.0</td>\n",
              "      <td>-2.933564e+00</td>\n",
              "      <td>0.0</td>\n",
              "      <td>0.0</td>\n",
              "      <td>-0.003937</td>\n",
              "      <td>0.360692</td>\n",
              "      <td>394.658007</td>\n",
              "      <td>-25.230886</td>\n",
              "      <td>0.0</td>\n",
              "      <td>0.0</td>\n",
              "      <td>0.0</td>\n",
              "      <td>0.0</td>\n",
              "      <td>0.0</td>\n",
              "      <td>0.0</td>\n",
              "    </tr>\n",
              "    <tr>\n",
              "      <th>3</th>\n",
              "      <td>-6.099719e-03</td>\n",
              "      <td>0.000458</td>\n",
              "      <td>0.0</td>\n",
              "      <td>0.0</td>\n",
              "      <td>0.0</td>\n",
              "      <td>-0.389924</td>\n",
              "      <td>-0.842527</td>\n",
              "      <td>2.700530</td>\n",
              "      <td>0.016810</td>\n",
              "      <td>0.008952</td>\n",
              "      <td>0.921003</td>\n",
              "      <td>0.0</td>\n",
              "      <td>0.0</td>\n",
              "      <td>0.0</td>\n",
              "      <td>1.280123e+00</td>\n",
              "      <td>0.0</td>\n",
              "      <td>0.0</td>\n",
              "      <td>-0.002353</td>\n",
              "      <td>0.371971</td>\n",
              "      <td>393.223822</td>\n",
              "      <td>-26.062563</td>\n",
              "      <td>0.0</td>\n",
              "      <td>0.0</td>\n",
              "      <td>0.0</td>\n",
              "      <td>0.0</td>\n",
              "      <td>0.0</td>\n",
              "      <td>0.0</td>\n",
              "    </tr>\n",
              "    <tr>\n",
              "      <th>4</th>\n",
              "      <td>9.799138e-16</td>\n",
              "      <td>0.000541</td>\n",
              "      <td>0.0</td>\n",
              "      <td>0.0</td>\n",
              "      <td>0.0</td>\n",
              "      <td>-0.395842</td>\n",
              "      <td>-0.843013</td>\n",
              "      <td>2.704477</td>\n",
              "      <td>0.015960</td>\n",
              "      <td>0.014786</td>\n",
              "      <td>0.920890</td>\n",
              "      <td>0.0</td>\n",
              "      <td>0.0</td>\n",
              "      <td>0.0</td>\n",
              "      <td>2.804470e+00</td>\n",
              "      <td>0.0</td>\n",
              "      <td>0.0</td>\n",
              "      <td>0.000000</td>\n",
              "      <td>0.381385</td>\n",
              "      <td>391.553728</td>\n",
              "      <td>-26.748945</td>\n",
              "      <td>0.0</td>\n",
              "      <td>0.0</td>\n",
              "      <td>0.0</td>\n",
              "      <td>0.0</td>\n",
              "      <td>0.0</td>\n",
              "      <td>0.0</td>\n",
              "    </tr>\n",
              "  </tbody>\n",
              "</table>\n",
              "</div>"
            ],
            "text/plain": [
              "          Nasal  Thermistor  EKG  Thorax  ...   RR  XSum  Tidal Volume  XFlow\n",
              "0  4.899569e-16    0.000092  0.0     0.0  ...  0.0   0.0           0.0    0.0\n",
              "1 -8.549954e-03    0.000234  0.0     0.0  ...  0.0   0.0           0.0    0.0\n",
              "2 -1.007546e-02    0.000356  0.0     0.0  ...  0.0   0.0           0.0    0.0\n",
              "3 -6.099719e-03    0.000458  0.0     0.0  ...  0.0   0.0           0.0    0.0\n",
              "4  9.799138e-16    0.000541  0.0     0.0  ...  0.0   0.0           0.0    0.0\n",
              "\n",
              "[5 rows x 27 columns]"
            ]
          },
          "metadata": {
            "tags": []
          },
          "execution_count": 37
        }
      ]
    },
    {
      "cell_type": "markdown",
      "metadata": {
        "id": "5YInn4BmUu5K",
        "colab_type": "text"
      },
      "source": [
        "Output the spreadsheet pre-processed as .csv file (the file will be at the same drive as the .edf file)"
      ]
    },
    {
      "cell_type": "code",
      "metadata": {
        "id": "PHI1JARG-9ZY",
        "colab_type": "code",
        "colab": {
          "base_uri": "https://localhost:8080/",
          "height": 71
        },
        "outputId": "d3658499-c7f2-43ce-bffe-3168a9729673"
      },
      "source": [
        "#output.to_csv('output.csv')\n",
        "output['Pulse'].to_csv(file.replace('edf', 'csv'), index=False)"
      ],
      "execution_count": 38,
      "outputs": [
        {
          "output_type": "stream",
          "text": [
            "/usr/local/lib/python3.6/dist-packages/ipykernel_launcher.py:1: FutureWarning: The signature of `Series.to_csv` was aligned to that of `DataFrame.to_csv`, and argument 'header' will change its default value from False to True: please pass an explicit value to suppress this warning.\n",
            "  \"\"\"Entry point for launching an IPython kernel.\n"
          ],
          "name": "stderr"
        }
      ]
    },
    {
      "cell_type": "markdown",
      "metadata": {
        "id": "4eWXJYJuV2Lq",
        "colab_type": "text"
      },
      "source": [
        "Umount google drive"
      ]
    },
    {
      "cell_type": "code",
      "metadata": {
        "id": "g9JdpIe6VtZO",
        "colab_type": "code",
        "colab": {}
      },
      "source": [
        "drive.flush_and_unmount()"
      ],
      "execution_count": 0,
      "outputs": []
    }
  ]
}